{
 "cells": [
  {
   "cell_type": "markdown",
   "id": "ab91e74f",
   "metadata": {},
   "source": [
    "## Задание 1\n",
    "Написать код на Python в среде Jupyter Notebook для решения следующей задачи.\n",
    "\n",
    "Вам нужно помочь секретарю автоматизировать работу. Для этого нужно написать программу, которая будет на основе хранимых данных исполнять пользовательские команды.\n",
    "\n",
    "Пользователь по команде 'p' получает имя владельца документа по номеру документа.\n",
    "\n",
    "## Задание 2 (не обязательное)\n",
    "Секретарь по команде “s” может по номеру документа узнать на какой полке он (документ) хранится\n",
    "Для того, чтобы выйти из программы, пользователю необходимо ввести \"q\""
   ]
  },
  {
   "cell_type": "code",
   "execution_count": 33,
   "id": "b39c32fa",
   "metadata": {},
   "outputs": [
    {
     "name": "stdout",
     "output_type": "stream",
     "text": [
      "Выберите тип операции: p\n",
      "Введите номер документа: 10006\n",
      "Владелец документа: Аристарх Павлов\n",
      "Выберите тип операции: p\n",
      "Введите номер документа: 1001\n",
      "Пользователь не найден\n",
      "Выберите тип операции: s\n",
      "Введите номер документа: 10006\n",
      "Документ хранится на полке 2\n",
      "Выберите тип операции: s\n",
      "Введите номер документа: 10001\n",
      "Документ не найден\n",
      "Выберите тип операции: r\n",
      "Такой операции не существует!\n",
      "Выберите тип операции: q\n",
      "Выход из программы\n"
     ]
    }
   ],
   "source": [
    "documents = [\n",
    " {'type': 'passport', 'number': '2207 876234', 'name': 'Василий Гупкин'},\n",
    " {'type': 'invoice', 'number': '11-2', 'name': 'Геннадий Покемонов'},\n",
    " {'type': 'insurance', 'number': '10006', 'name': 'Аристарх Павлов'}\n",
    "]\n",
    "\n",
    "directories = {\n",
    " '1': ['2207 876234', '11-2'],\n",
    " '2': ['10006'],\n",
    " '3': []\n",
    "}\n",
    "\n",
    "def get_number():\n",
    "    \n",
    "    \"\"\"\n",
    "    Пользователь по команде 'p' получает имя владельца документа по номеру\n",
    "    \n",
    "    \"\"\"\n",
    "    num_doc = input(\"Введите номер документа: \")\n",
    "    for row in documents:\n",
    "        if row['number'] == num_doc:\n",
    "            return f\"Владелец документа: {row['name']}\"\n",
    "    else:\n",
    "        return \"Пользователь не найден\"\n",
    "    \n",
    "def get_shelf():\n",
    "    \n",
    "    \"\"\"\n",
    "    Пользователь по команде 's' узнаёт, на какой полке хранится документ\n",
    "    \n",
    "    \"\"\"\n",
    "    \n",
    "    num_doc = input(\"Введите номер документа: \")\n",
    "    for item, values in directories.items():\n",
    "        if num_doc in values:\n",
    "            return f\"Документ хранится на полке {item}\"\n",
    "    else:\n",
    "        return f\"Документ не найден\"\n",
    "\n",
    "while True:\n",
    "    type_doc = input(\"Выберите тип операции: \")\n",
    "    if type_doc == \"q\":\n",
    "        print(\"Выход из программы\")\n",
    "        break \n",
    "    elif type_doc == \"p\":\n",
    "        print(get_number())\n",
    "        continue\n",
    "    elif type_doc == \"s\":\n",
    "        print(get_shelf())\n",
    "        continue\n",
    "    else:\n",
    "        print(\"Такой операции не существует!\")\n",
    "        continue"
   ]
  }
 ],
 "metadata": {
  "kernelspec": {
   "display_name": "Python 3 (ipykernel)",
   "language": "python",
   "name": "python3"
  },
  "language_info": {
   "codemirror_mode": {
    "name": "ipython",
    "version": 3
   },
   "file_extension": ".py",
   "mimetype": "text/x-python",
   "name": "python",
   "nbconvert_exporter": "python",
   "pygments_lexer": "ipython3",
   "version": "3.9.12"
  }
 },
 "nbformat": 4,
 "nbformat_minor": 5
}
