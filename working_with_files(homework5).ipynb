{
 "cells": [
  {
   "cell_type": "markdown",
   "id": "83dd1bb7",
   "metadata": {},
   "source": [
    "# Задание 1\n",
    "Переведите содержимое файла purchase_log.txt в словарь purchases вида:\n",
    "{‘1840e0b9d4’: ‘Продукты’, …}"
   ]
  },
  {
   "cell_type": "code",
   "execution_count": 4,
   "id": "17a8ab8b",
   "metadata": {},
   "outputs": [
    {
     "name": "stdout",
     "output_type": "stream",
     "text": [
      "1840e0b9d4 'Продукты'\n",
      "4e4f90fcfb 'Электроника'\n"
     ]
    }
   ],
   "source": [
    "import json\n",
    "import csv\n",
    "\n",
    "purchases = {}\n",
    "\n",
    "with open('purchase_log.txt', 'r', encoding='utf-8') as f:\n",
    "    for i, line in enumerate(f):\n",
    "        dict_ = json.loads(line)\n",
    "        key = dict_['user_id']\n",
    "        value = dict_['category']\n",
    "        purchases.setdefault(key,value)\n",
    "            \n",
    "i= 1 \n",
    "for key, value in purchases.items():\n",
    "    if key != \"user_id\" and value != \"category\":\n",
    "        print(f\"{key} '{value}'\")\n",
    "        i+=1\n",
    "          \n",
    "        if i > 2:\n",
    "              break"
   ]
  },
  {
   "cell_type": "markdown",
   "id": "8a3b2064",
   "metadata": {},
   "source": [
    "# Задание 2 (не обязательное)\n",
    "Для каждого user_id в файле visit_log.csv определите третий столбец с категорией покупки. Если покупка была, сам файл visit_log.csv изменять не надо.\n",
    "Запишите в файл funnel.csv визиты из файла visit_log.csv, в которых были покупки с указанием категории.\n",
    "Учтите условия для данных:\n",
    "\n",
    "- содержимое purchase_log.txt помещается в оперативную память компьютера;\n",
    "- содержимое visit_log.csv — нет, используйте только построчную обработку этого файла."
   ]
  },
  {
   "cell_type": "code",
   "execution_count": 5,
   "id": "34e6d969",
   "metadata": {},
   "outputs": [
    {
     "name": "stdout",
     "output_type": "stream",
     "text": [
      "user_id source category\n",
      "1840e0b9d4 other Продукты\n",
      "4e4f90fcfb context Электроника\n"
     ]
    }
   ],
   "source": [
    "# заполняем данные для занесения в файл funnel\n",
    "funnel_data = []\n",
    "with open('visit_log.csv', encoding='utf-8') as v_l:\n",
    "    reader = csv.reader(v_l)\n",
    "    for row in reader:\n",
    "        if row[0] in purchases.keys():\n",
    "            funnel_data.append([row[0], row[1], purchases[row[0]]])\n",
    "\n",
    "\n",
    "with open('funnel.csv', 'w', encoding='utf-8') as fun:\n",
    "    writer = csv.writer(fun)\n",
    "    writer.writerows(funnel_data)\n",
    "\n",
    "i = 0\n",
    "\n",
    "for row in funnel_data:\n",
    "    print(row[0], row[1], row[2])\n",
    "\n",
    "    i+=1\n",
    "\n",
    "    if i > 2: \n",
    "        break"
   ]
  }
 ],
 "metadata": {
  "kernelspec": {
   "display_name": "Python 3 (ipykernel)",
   "language": "python",
   "name": "python3"
  },
  "language_info": {
   "codemirror_mode": {
    "name": "ipython",
    "version": 3
   },
   "file_extension": ".py",
   "mimetype": "text/x-python",
   "name": "python",
   "nbconvert_exporter": "python",
   "pygments_lexer": "ipython3",
   "version": "3.9.12"
  }
 },
 "nbformat": 4,
 "nbformat_minor": 5
}
