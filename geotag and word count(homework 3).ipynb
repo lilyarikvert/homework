{
 "cells": [
  {
   "cell_type": "markdown",
   "id": "004b4399",
   "metadata": {},
   "source": [
    "## Задание 1\n",
    "Дана переменная, в которой хранится словарь, содержащий гео-метки для каждого пользователя (пример структуры данных приведен ниже). Вам необходимо написать программу, которая выведет на экран множество уникальных гео-меток всех пользователей.\n",
    "\n"
   ]
  },
  {
   "cell_type": "code",
   "execution_count": 3,
   "id": "f21f84aa",
   "metadata": {},
   "outputs": [],
   "source": [
    "ids = {'user1': [213, 213, 213, 15, 213], \n",
    "       'user2': [54, 54, 119, 119, 119], \n",
    "       'user3': [213, 98, 98, 35]}"
   ]
  },
  {
   "cell_type": "code",
   "execution_count": 4,
   "id": "a8ec0c77",
   "metadata": {},
   "outputs": [],
   "source": [
    "geo_tags = []"
   ]
  },
  {
   "cell_type": "code",
   "execution_count": 5,
   "id": "39c4106e",
   "metadata": {},
   "outputs": [
    {
     "name": "stdout",
     "output_type": "stream",
     "text": [
      "{98, 35, 15, 213, 54, 119}\n"
     ]
    }
   ],
   "source": [
    "for value in ids.values():\n",
    "    if type(value) == list:\n",
    "        geo_tags += value\n",
    "    else:\n",
    "        geo_tags.append(value)\n",
    "    \n",
    "print(set(geo_tags))"
   ]
  },
  {
   "cell_type": "markdown",
   "id": "38cc6597",
   "metadata": {},
   "source": [
    "## Задание 2 (не обязательное)\n",
    "Дана переменная, в которой хранится список поисковых запросов пользователя (пример структуры данных приведен ниже). Вам необходимо написать программу, которая выведет на экран распределение количества слов в запросах в требуемом виде."
   ]
  },
  {
   "cell_type": "code",
   "execution_count": 32,
   "id": "dff69a00",
   "metadata": {},
   "outputs": [
    {
     "name": "stdout",
     "output_type": "stream",
     "text": [
      "Поисковых запросов, содержащих 2 слов(а):42.86%\n",
      "Поисковых запросов, содержащих 3 слов(а):57.14%\n"
     ]
    }
   ],
   "source": [
    "queries = [\n",
    "    'смотреть сериалы онлайн',\n",
    "    'новости спорта',\n",
    "    'афиша кино',\n",
    "    'курс доллара',\n",
    "    'сериалы этим летом',\n",
    "    'курс по питону',\n",
    "    'сериалы про спорт',\n",
    "]\n",
    "total = []\n",
    "\n",
    "for item in queries:\n",
    "    total.append(len(item.split()))\n",
    "\n",
    "print(f\"Поисковых запросов, содержащих 2 слов(а):{round((total.count(2)/len(queries))*100,2)}%\")\n",
    "print(f\"Поисковых запросов, содержащих 3 слов(а):{round((total.count(3)/len(queries))*100,2)}%\") \n"
   ]
  }
 ],
 "metadata": {
  "kernelspec": {
   "display_name": "Python 3 (ipykernel)",
   "language": "python",
   "name": "python3"
  },
  "language_info": {
   "codemirror_mode": {
    "name": "ipython",
    "version": 3
   },
   "file_extension": ".py",
   "mimetype": "text/x-python",
   "name": "python",
   "nbconvert_exporter": "python",
   "pygments_lexer": "ipython3",
   "version": "3.9.12"
  }
 },
 "nbformat": 4,
 "nbformat_minor": 5
}
