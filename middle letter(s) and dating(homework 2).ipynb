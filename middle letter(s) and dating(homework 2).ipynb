{
 "cells": [
  {
   "cell_type": "markdown",
   "id": "37c6f466",
   "metadata": {},
   "source": [
    "## Задание 1\n",
    "Написать код на Python в среде Jupyter Notebook для решения следующей задачи.\n",
    "\n",
    "Дана переменная, в которой хранится слово из латинских букв. Напишите код, который выводит на экран:\n",
    "\n",
    " - среднюю букву, если число букв в слове нечётное;\n",
    " - две средних буквы, если число букв чётное.\n"
   ]
  },
  {
   "cell_type": "code",
   "execution_count": 17,
   "id": "eb0c3216",
   "metadata": {},
   "outputs": [
    {
     "name": "stdout",
     "output_type": "stream",
     "text": [
      "Введите слово: testing\n",
      "t\n"
     ]
    }
   ],
   "source": [
    "word = input(\"Введите слово: \")\n",
    "letter = len(word) // 2\n",
    "if len(word) % 2 == 0:\n",
    "    print(word[letter-1:letter+1])\n",
    "else:\n",
    "    print(word[letter])"
   ]
  },
  {
   "cell_type": "markdown",
   "id": "c6e0d6c2",
   "metadata": {},
   "source": [
    "Задание 2 (необязательное)\n",
    "\n",
    "Вы делаете MVP (минимально жизнеспособный продукт) dating-сервиса.\n",
    "У вас есть список юношей и девушек.\n",
    "Выдвигаем гипотезу: лучшие рекомендации получатся, если просто отсортировать имена по алфавиту и познакомить людей с одинаковыми индексами после сортировки. Но вы не будете никого знакомить, если кто-то может остаться без пары."
   ]
  },
  {
   "cell_type": "code",
   "execution_count": 26,
   "id": "83f5952f",
   "metadata": {},
   "outputs": [
    {
     "name": "stdout",
     "output_type": "stream",
     "text": [
      "Введите имена парней: Миша Костя Ярослав Андрей\n",
      "Введите имена девушек: Ира Маша Соня Лена\n",
      "Идеальная пара: \n",
      "Андрей и Ира\n",
      "Костя и Лена\n",
      "Миша и Маша\n",
      "Ярослав и Соня\n"
     ]
    }
   ],
   "source": [
    "boys = list(map(str, input(\"Введите имена парней: \").split()))\n",
    "girls = list(map(str, input(\"Введите имена девушек: \").split()))\n",
    "if len(boys) == len(girls):\n",
    "    boys.sort()\n",
    "    girls.sort()\n",
    "    match = zip(boys,girls)\n",
    "    print(\"Идеальная пара: \")\n",
    "    for people in match:\n",
    "        print(f\"{people[0]} и {people[1]}\")\n",
    "else:\n",
    "    print(\"Внимание, Кто-то может остаться без пары!\")"
   ]
  },
  {
   "cell_type": "code",
   "execution_count": null,
   "id": "d18b6092",
   "metadata": {},
   "outputs": [],
   "source": []
  }
 ],
 "metadata": {
  "kernelspec": {
   "display_name": "Python 3 (ipykernel)",
   "language": "python",
   "name": "python3"
  },
  "language_info": {
   "codemirror_mode": {
    "name": "ipython",
    "version": 3
   },
   "file_extension": ".py",
   "mimetype": "text/x-python",
   "name": "python",
   "nbconvert_exporter": "python",
   "pygments_lexer": "ipython3",
   "version": "3.9.12"
  }
 },
 "nbformat": 4,
 "nbformat_minor": 5
}
