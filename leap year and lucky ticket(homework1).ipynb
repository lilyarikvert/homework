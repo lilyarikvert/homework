{
 "cells": [
  {
   "cell_type": "markdown",
   "id": "e41b68fc",
   "metadata": {},
   "source": [
    "## Задание 1\n",
    "При вводе номера года 2020 выводится строка «Високосный год». При вводе номера года 2019 выводится строка «Обычный год»."
   ]
  },
  {
   "cell_type": "code",
   "execution_count": 3,
   "id": "aac03478",
   "metadata": {},
   "outputs": [
    {
     "name": "stdout",
     "output_type": "stream",
     "text": [
      "2020\n",
      "Високосный год\n"
     ]
    }
   ],
   "source": [
    "year = int(input())\n",
    "if ((year % 4 == 0) and (year % 100 != 0)) or (year % 400 == 0):\n",
    "    print(\"Високосный год\")\n",
    "else:    \n",
    "    print(\"Обычный год\")"
   ]
  },
  {
   "cell_type": "markdown",
   "id": "b9d32499",
   "metadata": {},
   "source": [
    "## Задание 2.\n",
    "При вводе числа 123456 выводится надпись «Несчастливый билет». При вводе числа 123321 выводится надпись «Счастливый билет»"
   ]
  },
  {
   "cell_type": "code",
   "execution_count": 6,
   "id": "0d609ee4",
   "metadata": {},
   "outputs": [
    {
     "name": "stdout",
     "output_type": "stream",
     "text": [
      "123321\n",
      "Счастливый\n"
     ]
    }
   ],
   "source": [
    "number = list(input())\n",
    "ticket = [int(i) for i in number]\n",
    "if sum(ticket[:3]) == sum(ticket[3:]):\n",
    "    print(\"Счастливый билет\")\n",
    "else:\n",
    "    print(\"Обычный билет\")\n"
   ]
  }
 ],
 "metadata": {
  "kernelspec": {
   "display_name": "Python 3 (ipykernel)",
   "language": "python",
   "name": "python3"
  },
  "language_info": {
   "codemirror_mode": {
    "name": "ipython",
    "version": 3
   },
   "file_extension": ".py",
   "mimetype": "text/x-python",
   "name": "python",
   "nbconvert_exporter": "python",
   "pygments_lexer": "ipython3",
   "version": "3.9.12"
  }
 },
 "nbformat": 4,
 "nbformat_minor": 5
}
