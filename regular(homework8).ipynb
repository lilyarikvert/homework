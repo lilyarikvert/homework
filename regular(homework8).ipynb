{
 "cells": [
  {
   "cell_type": "markdown",
   "id": "fb8dd019",
   "metadata": {},
   "source": [
    "# Задание 1\n",
    "Напишите функцию, которая принимает на вход строку и проверяет, является ли она валидным транспортным номером (1 буква, 3 цифры, 2 буквы, 2-3 цифры). Обратите внимание, что не все буквы кириллического алфавита используются в транспортных номерах.\n",
    "\n",
    "Если номер валиден, то функция должна возвращать отдельно номер и регион.\n",
    "\n"
   ]
  },
  {
   "cell_type": "code",
   "execution_count": 16,
   "id": "58755087",
   "metadata": {},
   "outputs": [
    {
     "name": "stdout",
     "output_type": "stream",
     "text": [
      "Введите номер для проверки на валидность: А222ВС96\n"
     ]
    },
    {
     "data": {
      "text/plain": [
       "'Результат: Номер А222ВС96 валиден. Регион: 96'"
      ]
     },
     "execution_count": 16,
     "metadata": {},
     "output_type": "execute_result"
    }
   ],
   "source": [
    "import re\n",
    "\n",
    "car_id = input(\"Введите номер для проверки на валидность: \")\n",
    "\n",
    "def val_num(car_id):\n",
    "    pattern = re.compile(r'^[АВЕКМНОРСТУХ]\\d{3}[АВЕКМНОРСТУХ]{2}(?P<reg>\\d{2,3})$')\n",
    "    match = pattern.match(car_id)\n",
    "    if match:\n",
    "        return f\"Результат: Номер {car_id} валиден. Регион: {match['reg']}\"\n",
    "    else:\n",
    "        return f\"Результат: Номер {car_id} не валиден\"\n",
    "    \n",
    "val_num(car_id)"
   ]
  },
  {
   "cell_type": "markdown",
   "id": "3eb26970",
   "metadata": {},
   "source": [
    "# Задание 2 (не обязательное)\n",
    "Напишите функцию, которая будет удалять все последовательные повторы слов из заданной строки при помощи регулярных выражений."
   ]
  },
  {
   "cell_type": "code",
   "execution_count": 17,
   "id": "aff75faa",
   "metadata": {},
   "outputs": [
    {
     "data": {
      "text/plain": [
       "'Напишите функцию, которая будет удалять все последовательные повторы слов из заданной строки при помощи регулярных выражений'"
      ]
     },
     "execution_count": 17,
     "metadata": {},
     "output_type": "execute_result"
    }
   ],
   "source": [
    "some_string = 'Напишите функцию функцию, которая будет будет будет будет удалять все все все все последовательные повторы слов из из из из заданной строки строки при помощи регулярных выражений'\n",
    "\n",
    "def del_repeats(some_string):\n",
    "    pattern = r'(\\w+)(\\s+\\1)+'\n",
    "    return re.sub(pattern, r'\\1', some_string)\n",
    "\n",
    "del_repeats(some_string)"
   ]
  }
 ],
 "metadata": {
  "kernelspec": {
   "display_name": "Python 3 (ipykernel)",
   "language": "python",
   "name": "python3"
  },
  "language_info": {
   "codemirror_mode": {
    "name": "ipython",
    "version": 3
   },
   "file_extension": ".py",
   "mimetype": "text/x-python",
   "name": "python",
   "nbconvert_exporter": "python",
   "pygments_lexer": "ipython3",
   "version": "3.9.12"
  }
 },
 "nbformat": 4,
 "nbformat_minor": 5
}
