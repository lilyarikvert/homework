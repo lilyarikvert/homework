{
 "cells": [
  {
   "cell_type": "markdown",
   "id": "9eab429c",
   "metadata": {},
   "source": [
    "# Задание 1\n",
    "Печатные газеты использовали свой формат дат для каждого выпуска. Для каждой газеты из списка напишите формат указанной даты для перевода в объект datetime:"
   ]
  },
  {
   "cell_type": "code",
   "execution_count": 69,
   "id": "35ffe012",
   "metadata": {},
   "outputs": [],
   "source": [
    "from datetime import datetime, timedelta"
   ]
  },
  {
   "cell_type": "code",
   "execution_count": 70,
   "id": "1adbbd87",
   "metadata": {},
   "outputs": [],
   "source": [
    "the_moscow_times = datetime(2002,10,2)\n",
    "the_guardian = datetime(2013,10,11)\n",
    "daily_news = datetime(1977,8,18)"
   ]
  },
  {
   "cell_type": "code",
   "execution_count": 71,
   "id": "4c8d1763",
   "metadata": {},
   "outputs": [
    {
     "name": "stdout",
     "output_type": "stream",
     "text": [
      "The Moscow Times - Wednesday, October 02, 2002\n",
      "The Guardian - Friday, 11.10.13\n",
      "Daily News - Thursday, 18 August 1977\n"
     ]
    }
   ],
   "source": [
    "print(\"The Moscow Times -\", the_moscow_times.strftime('%A, %B %d, %Y'))\n",
    "print(\"The Guardian -\", the_guardian.strftime('%A, %d.%m.%y'))\n",
    "print(\"Daily News -\", daily_news.strftime('%A, %d %B %Y'))"
   ]
  },
  {
   "cell_type": "markdown",
   "id": "1298c0e7",
   "metadata": {},
   "source": [
    "# Задание 2 (не обязательное)\n",
    "Напишите функцию date_range, которая возвращает список дат за период от start_date до end_date. Даты должны вводиться в формате YYYY-MM-DD. В случае неверного формата или при start_date > end_date должен возвращаться пустой список.\n"
   ]
  },
  {
   "cell_type": "code",
   "execution_count": 72,
   "id": "a53b8357",
   "metadata": {},
   "outputs": [
    {
     "name": "stdout",
     "output_type": "stream",
     "text": [
      "Введите начальную дату в формате YYYY-MM-DD: 2022-01-01\n",
      "Введите дату окончания в формате YYYY-MM-DD: 2022-01-03\n"
     ]
    },
    {
     "data": {
      "text/plain": [
       "['2022-01-01', '2022-01-02', '2022-01-03']"
      ]
     },
     "execution_count": 72,
     "metadata": {},
     "output_type": "execute_result"
    }
   ],
   "source": [
    "start_date=input('Введите начальную дату в формате YYYY-MM-DD: ')\n",
    "end_date=input('Введите дату окончания в формате YYYY-MM-DD: ')\n",
    "days=[]\n",
    "def date_range():\n",
    "    try:\n",
    "        start_dt=datetime.strptime(start_date,'%Y-%m-%d')\n",
    "        end_dt=datetime.strptime(end_date,'%Y-%m-%d')\n",
    "        while start_dt<=end_dt:\n",
    "            print_datetime=datetime.strftime(start_dt,'%Y-%m-%d')\n",
    "            days.append(print_datetime)\n",
    "            start_dt+=timedelta(days=1)\n",
    "        return(days)\n",
    "    except ValueError:\n",
    "        return(days)\n",
    "date_range()"
   ]
  }
 ],
 "metadata": {
  "kernelspec": {
   "display_name": "Python 3 (ipykernel)",
   "language": "python",
   "name": "python3"
  },
  "language_info": {
   "codemirror_mode": {
    "name": "ipython",
    "version": 3
   },
   "file_extension": ".py",
   "mimetype": "text/x-python",
   "name": "python",
   "nbconvert_exporter": "python",
   "pygments_lexer": "ipython3",
   "version": "3.9.12"
  }
 },
 "nbformat": 4,
 "nbformat_minor": 5
}
