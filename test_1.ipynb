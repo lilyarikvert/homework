{
 "cells": [
  {
   "cell_type": "markdown",
   "id": "95a480c8",
   "metadata": {},
   "source": [
    "# Задание 1\n",
    "Дана переменная, в которой хранится информация о затратах и доходе рекламных кампаний по различным источникам. Необходимо дополнить исходную структуру показателем ROI, который рассчитаем по формуле: (revenue / cost - 1) * 100. Отсортируйте результат по убыванию рассчитанного показателя ROI."
   ]
  },
  {
   "cell_type": "code",
   "execution_count": 5,
   "id": "ec4b6677",
   "metadata": {},
   "outputs": [
    {
     "name": "stdout",
     "output_type": "stream",
     "text": [
      "'yandex':{'revenue': 179, 'cost': 153, 'ROI': 16.99}\n",
      "'vk':{'revenue': 103, 'cost': 98, 'ROI': 5.1}\n",
      "'adwords':{'revenue': 35, 'cost': 34, 'ROI': 2.94}\n",
      "'facebook':{'revenue': 103, 'cost': 110, 'ROI': -6.36}\n",
      "'twitter':{'revenue': 11, 'cost': 24, 'ROI': -54.17}\n"
     ]
    }
   ],
   "source": [
    "results = {\n",
    "    'vk': {'revenue': 103, 'cost': 98},\n",
    "    'yandex': {'revenue': 179, 'cost': 153},\n",
    "    'facebook': {'revenue': 103, 'cost': 110},\n",
    "    'adwords': {'revenue': 35, 'cost': 34},\n",
    "    'twitter': {'revenue': 11, 'cost': 24},\n",
    "}\n",
    "\n",
    "for key, value in results.items():\n",
    "    value[\"ROI\"] = round(((value[\"revenue\"]-value[\"cost\"])/value[\"cost\"])*100,2)\n",
    "new_results = dict(sorted(results.items(), key = lambda x: x[1][\"ROI\"], reverse=True))\n",
    "for key, value in new_results.items():\n",
    "        print(f\"'{key}':{value}\")"
   ]
  },
  {
   "cell_type": "markdown",
   "id": "095808e4",
   "metadata": {},
   "source": [
    "# Задание 2\n",
    "Дан поток дат в формате YYYY-MM-DD, в которых встречаются некорректные значения:\n",
    "stream = [‘2018-04-02’, ‘2018-02-29’, ‘2018-19-02’]\n",
    "\n",
    "Напишите функцию dates_check, которая проверяет эти даты на корректность. Т. е. для каждой даты поставляет значение True (дата корректна) или False (некорректная дата)."
   ]
  },
  {
   "cell_type": "code",
   "execution_count": 6,
   "id": "8b9f5b3f",
   "metadata": {},
   "outputs": [
    {
     "name": "stdout",
     "output_type": "stream",
     "text": [
      "[True, False, False]\n"
     ]
    }
   ],
   "source": [
    "from datetime import datetime\n",
    "\n",
    "stream = ['2018-04-02', '2018-02-29', '2018-19-02']\n",
    "\n",
    "new_stream = []\n",
    "\n",
    "def check_date(date):\n",
    "    try:\n",
    "        datetime.strptime(date,'%Y-%m-%d')\n",
    "        new_stream.append(True)\n",
    "    except:\n",
    "        new_stream.append(False)\n",
    "    \n",
    "for date in stream:\n",
    "    check_date(date)\n",
    "print(new_stream)"
   ]
  }
 ],
 "metadata": {
  "kernelspec": {
   "display_name": "Python 3 (ipykernel)",
   "language": "python",
   "name": "python3"
  },
  "language_info": {
   "codemirror_mode": {
    "name": "ipython",
    "version": 3
   },
   "file_extension": ".py",
   "mimetype": "text/x-python",
   "name": "python",
   "nbconvert_exporter": "python",
   "pygments_lexer": "ipython3",
   "version": "3.9.12"
  }
 },
 "nbformat": 4,
 "nbformat_minor": 5
}
